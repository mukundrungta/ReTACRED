{
  "nbformat": 4,
  "nbformat_minor": 0,
  "metadata": {
    "colab": {
      "name": "ReTACRED",
      "provenance": [],
      "collapsed_sections": [],
      "mount_file_id": "1E0NuNrLvJUR9fdD4PYGeQGRhq5-0wexV",
      "authorship_tag": "ABX9TyMAAfoyunaETZfpcLfRqOih",
      "include_colab_link": true
    },
    "kernelspec": {
      "display_name": "Python 3",
      "name": "python3"
    },
    "language_info": {
      "name": "python"
    },
    "accelerator": "GPU"
  },
  "cells": [
    {
      "cell_type": "markdown",
      "metadata": {
        "id": "view-in-github",
        "colab_type": "text"
      },
      "source": [
        "<a href=\"https://colab.research.google.com/github/mukundrungta/ReTACRED/blob/main/ReTACRED.ipynb\" target=\"_parent\"><img src=\"https://colab.research.google.com/assets/colab-badge.svg\" alt=\"Open In Colab\"/></a>"
      ]
    },
    {
      "cell_type": "code",
      "metadata": {
        "colab": {
          "base_uri": "https://localhost:8080/"
        },
        "id": "rWbHYB3-_t1I",
        "outputId": "b3245140-86c3-4564-d4fa-a185fe29d606"
      },
      "source": [
        " !pip install colabcode"
      ],
      "execution_count": 1,
      "outputs": [
        {
          "output_type": "stream",
          "name": "stdout",
          "text": [
            "Requirement already satisfied: colabcode in /usr/local/lib/python3.7/dist-packages (0.3.0)\n",
            "Requirement already satisfied: jupyterlab==3.0.7 in /usr/local/lib/python3.7/dist-packages (from colabcode) (3.0.7)\n",
            "Requirement already satisfied: pyngrok>=5.0.0 in /usr/local/lib/python3.7/dist-packages (from colabcode) (5.1.0)\n",
            "Requirement already satisfied: nest-asyncio==1.4.3 in /usr/local/lib/python3.7/dist-packages (from colabcode) (1.4.3)\n",
            "Requirement already satisfied: uvicorn==0.13.1 in /usr/local/lib/python3.7/dist-packages (from colabcode) (0.13.1)\n",
            "Requirement already satisfied: jupyterlab-server~=2.0 in /usr/local/lib/python3.7/dist-packages (from jupyterlab==3.0.7->colabcode) (2.8.1)\n",
            "Requirement already satisfied: tornado>=6.1.0 in /usr/local/lib/python3.7/dist-packages (from jupyterlab==3.0.7->colabcode) (6.1)\n",
            "Requirement already satisfied: ipython in /usr/local/lib/python3.7/dist-packages (from jupyterlab==3.0.7->colabcode) (5.5.0)\n",
            "Requirement already satisfied: jinja2>=2.10 in /usr/local/lib/python3.7/dist-packages (from jupyterlab==3.0.7->colabcode) (2.11.3)\n",
            "Requirement already satisfied: jupyter-core in /usr/local/lib/python3.7/dist-packages (from jupyterlab==3.0.7->colabcode) (4.7.1)\n",
            "Requirement already satisfied: jupyter-server~=1.2 in /usr/local/lib/python3.7/dist-packages (from jupyterlab==3.0.7->colabcode) (1.11.0)\n",
            "Requirement already satisfied: packaging in /usr/local/lib/python3.7/dist-packages (from jupyterlab==3.0.7->colabcode) (21.0)\n",
            "Requirement already satisfied: nbclassic~=0.2 in /usr/local/lib/python3.7/dist-packages (from jupyterlab==3.0.7->colabcode) (0.3.2)\n",
            "Requirement already satisfied: h11>=0.8 in /usr/local/lib/python3.7/dist-packages (from uvicorn==0.13.1->colabcode) (0.12.0)\n",
            "Requirement already satisfied: click==7.* in /usr/local/lib/python3.7/dist-packages (from uvicorn==0.13.1->colabcode) (7.1.2)\n",
            "Requirement already satisfied: typing-extensions in /usr/local/lib/python3.7/dist-packages (from uvicorn==0.13.1->colabcode) (3.7.4.3)\n",
            "Requirement already satisfied: MarkupSafe>=0.23 in /usr/local/lib/python3.7/dist-packages (from jinja2>=2.10->jupyterlab==3.0.7->colabcode) (2.0.1)\n",
            "Requirement already satisfied: jupyter-client>=6.1.1 in /usr/local/lib/python3.7/dist-packages (from jupyter-server~=1.2->jupyterlab==3.0.7->colabcode) (6.1.12)\n",
            "Requirement already satisfied: Send2Trash in /usr/local/lib/python3.7/dist-packages (from jupyter-server~=1.2->jupyterlab==3.0.7->colabcode) (1.8.0)\n",
            "Requirement already satisfied: anyio<4,>=3.1.0 in /usr/local/lib/python3.7/dist-packages (from jupyter-server~=1.2->jupyterlab==3.0.7->colabcode) (3.3.1)\n",
            "Requirement already satisfied: requests-unixsocket in /usr/local/lib/python3.7/dist-packages (from jupyter-server~=1.2->jupyterlab==3.0.7->colabcode) (0.2.0)\n",
            "Requirement already satisfied: pyzmq>=17 in /usr/local/lib/python3.7/dist-packages (from jupyter-server~=1.2->jupyterlab==3.0.7->colabcode) (22.2.1)\n",
            "Requirement already satisfied: argon2-cffi in /usr/local/lib/python3.7/dist-packages (from jupyter-server~=1.2->jupyterlab==3.0.7->colabcode) (21.1.0)\n",
            "Requirement already satisfied: ipython-genutils in /usr/local/lib/python3.7/dist-packages (from jupyter-server~=1.2->jupyterlab==3.0.7->colabcode) (0.2.0)\n",
            "Requirement already satisfied: nbformat in /usr/local/lib/python3.7/dist-packages (from jupyter-server~=1.2->jupyterlab==3.0.7->colabcode) (5.1.3)\n",
            "Requirement already satisfied: nbconvert in /usr/local/lib/python3.7/dist-packages (from jupyter-server~=1.2->jupyterlab==3.0.7->colabcode) (5.6.1)\n",
            "Requirement already satisfied: terminado>=0.8.3 in /usr/local/lib/python3.7/dist-packages (from jupyter-server~=1.2->jupyterlab==3.0.7->colabcode) (0.12.1)\n",
            "Requirement already satisfied: prometheus-client in /usr/local/lib/python3.7/dist-packages (from jupyter-server~=1.2->jupyterlab==3.0.7->colabcode) (0.11.0)\n",
            "Requirement already satisfied: websocket-client in /usr/local/lib/python3.7/dist-packages (from jupyter-server~=1.2->jupyterlab==3.0.7->colabcode) (1.2.1)\n",
            "Requirement already satisfied: traitlets>=4.2.1 in /usr/local/lib/python3.7/dist-packages (from jupyter-server~=1.2->jupyterlab==3.0.7->colabcode) (5.1.0)\n",
            "Requirement already satisfied: idna>=2.8 in /usr/local/lib/python3.7/dist-packages (from anyio<4,>=3.1.0->jupyter-server~=1.2->jupyterlab==3.0.7->colabcode) (2.10)\n",
            "Requirement already satisfied: sniffio>=1.1 in /usr/local/lib/python3.7/dist-packages (from anyio<4,>=3.1.0->jupyter-server~=1.2->jupyterlab==3.0.7->colabcode) (1.2.0)\n",
            "Requirement already satisfied: python-dateutil>=2.1 in /usr/local/lib/python3.7/dist-packages (from jupyter-client>=6.1.1->jupyter-server~=1.2->jupyterlab==3.0.7->colabcode) (2.8.2)\n",
            "Requirement already satisfied: requests in /usr/local/lib/python3.7/dist-packages (from jupyterlab-server~=2.0->jupyterlab==3.0.7->colabcode) (2.23.0)\n",
            "Requirement already satisfied: json5 in /usr/local/lib/python3.7/dist-packages (from jupyterlab-server~=2.0->jupyterlab==3.0.7->colabcode) (0.9.6)\n",
            "Requirement already satisfied: jsonschema>=3.0.1 in /usr/local/lib/python3.7/dist-packages (from jupyterlab-server~=2.0->jupyterlab==3.0.7->colabcode) (3.2.0)\n",
            "Requirement already satisfied: entrypoints>=0.2.2 in /usr/local/lib/python3.7/dist-packages (from jupyterlab-server~=2.0->jupyterlab==3.0.7->colabcode) (0.3)\n",
            "Requirement already satisfied: babel in /usr/local/lib/python3.7/dist-packages (from jupyterlab-server~=2.0->jupyterlab==3.0.7->colabcode) (2.9.1)\n",
            "Requirement already satisfied: importlib-metadata in /usr/local/lib/python3.7/dist-packages (from jsonschema>=3.0.1->jupyterlab-server~=2.0->jupyterlab==3.0.7->colabcode) (4.8.1)\n",
            "Requirement already satisfied: six>=1.11.0 in /usr/local/lib/python3.7/dist-packages (from jsonschema>=3.0.1->jupyterlab-server~=2.0->jupyterlab==3.0.7->colabcode) (1.15.0)\n",
            "Requirement already satisfied: setuptools in /usr/local/lib/python3.7/dist-packages (from jsonschema>=3.0.1->jupyterlab-server~=2.0->jupyterlab==3.0.7->colabcode) (57.4.0)\n",
            "Requirement already satisfied: pyrsistent>=0.14.0 in /usr/local/lib/python3.7/dist-packages (from jsonschema>=3.0.1->jupyterlab-server~=2.0->jupyterlab==3.0.7->colabcode) (0.18.0)\n",
            "Requirement already satisfied: attrs>=17.4.0 in /usr/local/lib/python3.7/dist-packages (from jsonschema>=3.0.1->jupyterlab-server~=2.0->jupyterlab==3.0.7->colabcode) (21.2.0)\n",
            "Requirement already satisfied: notebook<7 in /usr/local/lib/python3.7/dist-packages (from nbclassic~=0.2->jupyterlab==3.0.7->colabcode) (5.3.1)\n",
            "Requirement already satisfied: ipykernel in /usr/local/lib/python3.7/dist-packages (from notebook<7->nbclassic~=0.2->jupyterlab==3.0.7->colabcode) (4.10.1)\n",
            "Requirement already satisfied: PyYAML in /usr/local/lib/python3.7/dist-packages (from pyngrok>=5.0.0->colabcode) (5.4.1)\n",
            "Requirement already satisfied: ptyprocess in /usr/local/lib/python3.7/dist-packages (from terminado>=0.8.3->jupyter-server~=1.2->jupyterlab==3.0.7->colabcode) (0.7.0)\n",
            "Requirement already satisfied: cffi>=1.0.0 in /usr/local/lib/python3.7/dist-packages (from argon2-cffi->jupyter-server~=1.2->jupyterlab==3.0.7->colabcode) (1.14.6)\n",
            "Requirement already satisfied: pycparser in /usr/local/lib/python3.7/dist-packages (from cffi>=1.0.0->argon2-cffi->jupyter-server~=1.2->jupyterlab==3.0.7->colabcode) (2.20)\n",
            "Requirement already satisfied: pytz>=2015.7 in /usr/local/lib/python3.7/dist-packages (from babel->jupyterlab-server~=2.0->jupyterlab==3.0.7->colabcode) (2018.9)\n",
            "Requirement already satisfied: zipp>=0.5 in /usr/local/lib/python3.7/dist-packages (from importlib-metadata->jsonschema>=3.0.1->jupyterlab-server~=2.0->jupyterlab==3.0.7->colabcode) (3.5.0)\n",
            "Requirement already satisfied: pygments in /usr/local/lib/python3.7/dist-packages (from ipython->jupyterlab==3.0.7->colabcode) (2.6.1)\n",
            "Requirement already satisfied: pickleshare in /usr/local/lib/python3.7/dist-packages (from ipython->jupyterlab==3.0.7->colabcode) (0.7.5)\n",
            "Requirement already satisfied: decorator in /usr/local/lib/python3.7/dist-packages (from ipython->jupyterlab==3.0.7->colabcode) (4.4.2)\n",
            "Requirement already satisfied: simplegeneric>0.8 in /usr/local/lib/python3.7/dist-packages (from ipython->jupyterlab==3.0.7->colabcode) (0.8.1)\n",
            "Requirement already satisfied: pexpect in /usr/local/lib/python3.7/dist-packages (from ipython->jupyterlab==3.0.7->colabcode) (4.8.0)\n",
            "Requirement already satisfied: prompt-toolkit<2.0.0,>=1.0.4 in /usr/local/lib/python3.7/dist-packages (from ipython->jupyterlab==3.0.7->colabcode) (1.0.18)\n",
            "Requirement already satisfied: wcwidth in /usr/local/lib/python3.7/dist-packages (from prompt-toolkit<2.0.0,>=1.0.4->ipython->jupyterlab==3.0.7->colabcode) (0.2.5)\n",
            "Requirement already satisfied: bleach in /usr/local/lib/python3.7/dist-packages (from nbconvert->jupyter-server~=1.2->jupyterlab==3.0.7->colabcode) (4.1.0)\n",
            "Requirement already satisfied: pandocfilters>=1.4.1 in /usr/local/lib/python3.7/dist-packages (from nbconvert->jupyter-server~=1.2->jupyterlab==3.0.7->colabcode) (1.5.0)\n",
            "Requirement already satisfied: testpath in /usr/local/lib/python3.7/dist-packages (from nbconvert->jupyter-server~=1.2->jupyterlab==3.0.7->colabcode) (0.5.0)\n",
            "Requirement already satisfied: mistune<2,>=0.8.1 in /usr/local/lib/python3.7/dist-packages (from nbconvert->jupyter-server~=1.2->jupyterlab==3.0.7->colabcode) (0.8.4)\n",
            "Requirement already satisfied: defusedxml in /usr/local/lib/python3.7/dist-packages (from nbconvert->jupyter-server~=1.2->jupyterlab==3.0.7->colabcode) (0.7.1)\n",
            "Requirement already satisfied: webencodings in /usr/local/lib/python3.7/dist-packages (from bleach->nbconvert->jupyter-server~=1.2->jupyterlab==3.0.7->colabcode) (0.5.1)\n",
            "Requirement already satisfied: pyparsing>=2.0.2 in /usr/local/lib/python3.7/dist-packages (from packaging->jupyterlab==3.0.7->colabcode) (2.4.7)\n",
            "Requirement already satisfied: certifi>=2017.4.17 in /usr/local/lib/python3.7/dist-packages (from requests->jupyterlab-server~=2.0->jupyterlab==3.0.7->colabcode) (2021.5.30)\n",
            "Requirement already satisfied: chardet<4,>=3.0.2 in /usr/local/lib/python3.7/dist-packages (from requests->jupyterlab-server~=2.0->jupyterlab==3.0.7->colabcode) (3.0.4)\n",
            "Requirement already satisfied: urllib3!=1.25.0,!=1.25.1,<1.26,>=1.21.1 in /usr/local/lib/python3.7/dist-packages (from requests->jupyterlab-server~=2.0->jupyterlab==3.0.7->colabcode) (1.24.3)\n"
          ]
        }
      ]
    },
    {
      "cell_type": "code",
      "metadata": {
        "colab": {
          "base_uri": "https://localhost:8080/"
        },
        "id": "M8VejE-c_8vu",
        "outputId": "f13e33b7-37b9-42ca-d84e-1db46f51bf26"
      },
      "source": [
        "from colabcode import ColabCode\n",
        "ColabCode()"
      ],
      "execution_count": null,
      "outputs": [
        {
          "output_type": "stream",
          "name": "stdout",
          "text": [
            "Code Server can be accessed on: NgrokTunnel: \"https://38ad-34-122-52-112.ngrok.io\" -> \"http://localhost:10000\"\n",
            "[2021-09-20T16:18:14.990Z] info  code-server 3.10.2 387b12ef4ca404ffd39d84834e1f0776e9e3c005\n",
            "[2021-09-20T16:18:14.993Z] info  Using user-data-dir ~/.local/share/code-server\n",
            "[2021-09-20T16:18:15.011Z] info  Using config file ~/.config/code-server/config.yaml\n",
            "[2021-09-20T16:18:15.011Z] info  HTTP server listening on http://127.0.0.1:10000 \n",
            "[2021-09-20T16:18:15.012Z] info    - Authentication is disabled \n",
            "[2021-09-20T16:18:15.012Z] info    - Not serving HTTPS \n"
          ]
        }
      ]
    },
    {
      "cell_type": "code",
      "metadata": {
        "id": "sDECSS1VwXMf"
      },
      "source": [
        "import json\n",
        "import os\n",
        "from copy import deepcopy\n",
        "from tqdm import tqdm\n",
        "\n",
        "def load_json(path):\n",
        "    return json.load(open(path, 'r'))\n",
        "\n",
        "def save_json(data, path):\n",
        "    return json.dump(data, open(path, 'w'))\n",
        "\n",
        "def apply_patch_on_split(split_data, split_patch):\n",
        "    patched_split = []\n",
        "    for instance in tqdm(split_data):\n",
        "        instance_id = instance['id']\n",
        "        if instance_id in split_patch.keys():\n",
        "            new_instance = deepcopy(instance)\n",
        "            new_instance['relation'] = split_patch[instance_id]\n",
        "            patched_split.append(new_instance)\n",
        "    return patched_split\n",
        "\n",
        "def apply_patches(split_dir, patch_dir, split_names=['train', 'dev', 'test']):\n",
        "    patches = {name: None for name in split_names}\n",
        "    for name in split_names:\n",
        "        # Set paths\n",
        "        split_path = os.path.join(split_dir, name + '.json')\n",
        "        patch_path = os.path.join(patch_dir, name + '_id2label.json')\n",
        "        # Load data\n",
        "        split_data = load_json(split_path)\n",
        "        patch_id2label = load_json(patch_path)\n",
        "        patch = apply_patch_on_split(split_data, patch_id2label)\n",
        "        patches[name] = patch\n",
        "    return patches\n",
        "\n",
        "def save_patches(patch2data, save_dir):\n",
        "    for patch_name, data in patch2data.items():\n",
        "        save_path = os.path.join(save_dir, patch_name + '.json')\n",
        "        save_json(data, save_path)"
      ],
      "execution_count": null,
      "outputs": []
    },
    {
      "cell_type": "code",
      "metadata": {
        "colab": {
          "base_uri": "https://localhost:8080/"
        },
        "id": "2V3avQi7wfku",
        "outputId": "963113bf-713e-4a1a-e108-106dfce258ea"
      },
      "source": [
        "if __name__ == '__main__':\n",
        "    tacred_dir = 'drive/MyDrive/ColabNotebooks/dataset/tacred' # Directory where TACRED is stored\n",
        "    patch_dir = 'drive/MyDrive/ColabNotebooks/dataset/id2label' # Directory where patches are located\n",
        "    # patch_dir = os.getcwd() # Directory where patches are located\n",
        "    save_dir = 'drive/MyDrive/ColabNotebooks/dataset/retacred' # Directory where patched data should be saved\n",
        "    os.makedirs(save_dir, exist_ok=True)\n",
        "    # Apply patches on data splits\n",
        "    patch2data = apply_patches(split_dir=tacred_dir, patch_dir=patch_dir)\n",
        "    # Save patched data to desired directory\n",
        "    save_patches(patch2data=patch2data, save_dir=save_dir)"
      ],
      "execution_count": null,
      "outputs": [
        {
          "name": "stderr",
          "output_type": "stream",
          "text": [
            "100%|██████████| 68124/68124 [00:10<00:00, 6351.74it/s]\n",
            "100%|██████████| 22631/22631 [00:02<00:00, 7720.85it/s]\n",
            "100%|██████████| 15509/15509 [00:02<00:00, 6080.91it/s]\n"
          ]
        }
      ]
    },
    {
      "cell_type": "code",
      "metadata": {
        "id": "ShiLgQfPZ9pT",
        "colab": {
          "base_uri": "https://localhost:8080/"
        },
        "outputId": "b86b0507-b724-40a6-95d1-9758794c7ed8"
      },
      "source": [
        "!sh drive/MyDrive/ColabNotebooks/RE_improved_baseline/scripts/run_bert_base_retacred.sh"
      ],
      "execution_count": 3,
      "outputs": [
        {
          "output_type": "stream",
          "name": "stdout",
          "text": [
            "\u001b[34m\u001b[1mwandb\u001b[0m: Currently logged in as: \u001b[33mmukundrungta\u001b[0m (use `wandb login --relogin` to force relogin)\n",
            "\u001b[34m\u001b[1mwandb\u001b[0m: Tracking run with wandb version 0.12.2\n",
            "\u001b[34m\u001b[1mwandb\u001b[0m: Syncing run \u001b[33mbert-base\u001b[0m\n",
            "\u001b[34m\u001b[1mwandb\u001b[0m: ⭐️ View project at \u001b[34m\u001b[4mhttps://wandb.ai/mukundrungta/RE_baseline\u001b[0m\n",
            "\u001b[34m\u001b[1mwandb\u001b[0m: 🚀 View run at \u001b[34m\u001b[4mhttps://wandb.ai/mukundrungta/RE_baseline/runs/tz7776r6\u001b[0m\n",
            "\u001b[34m\u001b[1mwandb\u001b[0m: Run data is saved locally in /content/wandb/run-20210920_160758-tz7776r6\n",
            "\u001b[34m\u001b[1mwandb\u001b[0m: Run `wandb offline` to turn off syncing.\n",
            "\n",
            "Some weights of the model checkpoint at bert-base-cased were not used when initializing BertModel: ['cls.seq_relationship.weight', 'cls.predictions.transform.dense.weight', 'cls.predictions.transform.dense.bias', 'cls.predictions.decoder.weight', 'cls.predictions.bias', 'cls.predictions.transform.LayerNorm.bias', 'cls.predictions.transform.LayerNorm.weight', 'cls.seq_relationship.bias']\n",
            "- This IS expected if you are initializing BertModel from the checkpoint of a model trained on another task or with another architecture (e.g. initializing a BertForSequenceClassification model from a BertForPreTraining model).\n",
            "- This IS NOT expected if you are initializing BertModel from the checkpoint of a model that you expect to be exactly identical (initializing a BertForSequenceClassification model from a BertForSequenceClassification model).\n",
            "100% 58465/58465 [02:40<00:00, 364.70it/s]\n",
            "100% 19584/19584 [00:51<00:00, 378.12it/s]\n",
            "100% 13418/13418 [00:35<00:00, 373.62it/s]\n",
            "Total steps: 10\n",
            "Warmup steps: 1\n",
            "100% 2/2 [00:13<00:00,  6.70s/it]\n",
            "100% 2/2 [00:12<00:00,  6.18s/it]\n",
            "100% 2/2 [00:13<00:00,  6.72s/it]\n",
            "100% 2/2 [00:13<00:00,  6.63s/it]\n",
            "100% 2/2 [00:13<00:00,  6.68s/it]\n",
            "{'id': ['e7798fb926b9403cfcd2', 'e779865fb96bbbcc4ca4', 'e7798ae9c0adbcdc81e7', 'e779865fb9bddb4eccbc', 'e779865fb97262ce4da3', 'e7798cd9013281a16790', 'e779865fb9abef08f14e', 'e779837935f731fc9f0f', 'e7798ae9c0f371b45c48', 'e779865fb94919ad3d94', 'e77985f2e8213756512b', 'e779865fb9f2064c20ad', 'e779865fb94fbf2c51ce', 'e779865fb9e9192aab32', 'e779865fb9854f59bf31', 'e7798f0975ccc1a70efd', 'e779865fb90c5401f0e3', 'e7798bba0f08d6398f13', 'e779865fb9b02343c59d', 'e779865fb937aaeb6d76', 'e779865fb91206337693', 'e779889f60eb8da1ff1d', 'e779865fb944b1e8e296', 'e779865fb98c2ff4e732', 'e779865fb9caddd02e74', 'e779865fb9a67c133e75', 'e77985158d81b7d6ea9a', 'e779865fb97de8634173', 'e7798b11b96ea4bc16a5', 'e779865fb9431306364d', 'e779865fb992d7f182be', 'e7798f12fdfa3a0e3698', 'e779865fb90b9861c383', 'e77985f2e8932fe19ca1', 'e779865fb9f705ea5bfc', 'e7798a9e368ca88d6459', 'e779865fb9a77eda1d0c', 'e779865fb94b3eb17e62', 'e779865fb921fb16c834', 'e779865fb967697d9d4f', 'e779865fb97ab3b67c6a', 'e77985f2e84c807642e9', 'e779865fb90e7c5f457c', 'e7798b1f1a82dcbc0c7c', 'e779865fb95354e28380', 'e779865fb96cc709a115', 'e7798f318baaec7d82c8', 'e779865fb917d33a684e', 'e779865fb966aa2b53b3', 'e779865fb9bc3619f614', 'e7798c74c5edd0d72b32', 'e7798bc3f6b2e4166f04', 'e779865fb9f1400072b0', 'e779865fb9661fc7f39f', 'e779865fb91e6f844f68', 'e779865fb904a4903afd', 'e779865fb995614ea5d2', 'e779865fb9f496cfc490', 'e779865fb91b0ad3295c', 'e779889f600e800735b9', 'e779865fb9f4483a3f39', 'e779865fb9f0a9e14bfa', 'e779865fb98ae757cbbc', 'e779865fb9b2bece2c42', 'e779865fb976957d2dde', 'e779865fb987e37d09bf', 'e7798f318bc89e8fbd79', 'e77985f2e84cdb428dd2', 'e779865fb9e8b0335f4a', 'e779865fb966ebed1fe1', 'e779889f602299ff033a', 'e779865fb99675c43ec5', 'e779878330fa9bc9778d', 'e779865fb9849fefe9fc', 'e779865fb9e4a3368d30', 'e779865fb911cdd3ef81', 'e7798bd9faa348993db8', 'e779865fb9eb7bcc7e12', 'e779865fb9652042a38a', 'e779865fb9a00ea54229', 'e779865fb95891f92cc2', 'e779865fb9fa393f4b9e', 'e779865fb999f0a812b4', 'e779865fb9cdfd726657', 'e7798b11b98bba0e2ef5', 'e779865fb9f7248ed3d2', 'e779865fb912792ac627', 'e779865fb9cc71af8991', 'e779865fb9530cf38b3e', 'e7798a9e3636160ec895', 'e779865fb92a1006974c', 'e779865fb9fa737c9e10', 'e7798a9e367968ff0935', 'e779865fb9181c7a97da', 'e779865fb98c83ea3c65', 'e779865fb96f4972723d', 'e779865fb90b3335f93f', 'e7798c22ebf514d698d5', 'e779865fb9d7fc67f6ff', 'e779865fb959eca73278', 'e779865fb9388ed5fd0b', 'e779865fb9248062b449', 'e7798b11b9be668c4514', 'e779865fb9afd37eb160', 'e779865fb9ab25c5ef05', 'e779865fb9e103d07e1c', 'e77985f2e87c731da4fb', 'e779865fb9f29774c56f', 'e779865fb942339a0a08', 'e779865fb9a6246202cb', 'e77985f2e8f8b40c8ffe', 'e779865fb93e21506905', 'e779865fb9d2bd5ec5de', 'e7798b11b96e09e76dc6', 'e779865fb94c8b4d1f49', 'e779865fb9528a79b861', 'e7798a9e36377ad1afa3', 'e779865fb91be0065ded', 'e77986c89017aef9fc3d', 'e779865fb9c368202522', 'e779865fb936ea97f1de', 'e779865fb9acfe142a0e', 'e779865fb9227283988c', 'e779865fb9769bae00da', 'e779889f60c723913859', 'e779865fb90f2d50f28b', 'e779865fb9cca64a8baa', 'e779865fb93fce5903ce'], 'keys': [8, 0, 32, 0, 0, 27, 7, 5, 32, 12, 15, 2, 0, 0, 9, 10, 0, 39, 0, 0, 0, 7, 3, 0, 12, 0, 9, 0, 12, 0, 9, 0, 0, 15, 2, 13, 2, 2, 0, 19, 2, 15, 0, 31, 0, 0, 5, 0, 0, 8, 17, 20, 2, 0, 0, 0, 2, 0, 0, 7, 0, 0, 0, 2, 0, 0, 6, 15, 3, 7, 7, 0, 23, 0, 0, 0, 14, 2, 2, 0, 0, 0, 0, 0, 0, 0, 0, 0, 0, 3, 0, 0, 3, 0, 28, 0, 0, 19, 0, 0, 0, 5, 12, 0, 0, 0, 15, 0, 0, 13, 15, 2, 2, 12, 0, 0, 3, 2, 28, 0, 0, 2, 2, 0, 0, 0, 0, 0], 'preds': [0, 0, 0, 0, 0, 0, 0, 0, 0, 0, 0, 0, 0, 0, 0, 0, 0, 0, 0, 0, 0, 0, 0, 0, 0, 0, 0, 0, 0, 0, 0, 0, 0, 0, 0, 0, 0, 0, 0, 0, 0, 0, 0, 0, 0, 0, 0, 0, 0, 0, 0, 0, 0, 0, 0, 0, 0, 0, 0, 0, 0, 0, 0, 0, 0, 0, 0, 0, 0, 0, 0, 0, 0, 0, 0, 0, 0, 0, 0, 0, 0, 0, 0, 0, 0, 0, 0, 0, 0, 0, 0, 0, 0, 0, 0, 0, 0, 0, 0, 0, 0, 0, 0, 0, 0, 0, 0, 0, 0, 0, 0, 0, 0, 0, 0, 0, 0, 0, 0, 0, 0, 0, 0, 0, 0, 0, 0, 0]}\n",
            "{'dev_f1': 0.0}\n",
            "{'id': ['098f665fb966708cfcd2', '098f665fb90bef0c4ca4', '098f665fb9ef7dbc81e7', '098f665fb952509e4da3', '098f665fb96861716790', '098f665fb904d468f14e', '098f6fb926448e5c9f0f', '098f665fb91f40345c48', '098f665fb9b8828d3d94', '098f6fb926534ee6512b', '098f6fb926ff2bbc51ce', '098f665fb95cec1aab32', '098f665fb94b25c9bf31', '098f65f2e846a27c74d9', '098f665fb96a24870efd', '098f665fb95092f6f492', '098f665fb9fb6db1f0e3', '098f6179d3bb2b93c59d', '098f665fb9f9481b6d76', '098f65f2e86bdc937693', '098f65f2e855b721ff1d', '098f66c890c184a8e296', '098f665fb9098054e732', '098f665fb94595102e74', '098f665fb90a46333e75', '098f665fb99c91234173', '098f665fb9f47e4c16a5', '098f665fb906fd86364d', '098f665fb9fa274182be', '098f665fb9368eee3698', '098f6eb6b01df10a5bfc', '098f665fb9e76d1a5771', '098f6f318b0d591d67d8', '098f665fb9ba54dd6459', '098f665fb98896e3416a', '098f665fb9bdd1917e62', '098f65f2e8a5981f7177', '098f665fb9292776c834', '098f665fb9643b367c6a', '098f665fb9dd835642e9', '098f665fb975686f457c', '098f665fb9cb453c0c7c', '098f65f2e82db9c28380', '098f665fb91a6709a115', '098f665fb9a625aa684e', '098f665fb9c6770b53b3', '098f665fb9bd94b9f614', '098f69d0d17287066f04', '098f665fb9b67c2093f6', '098f665fb9da3c9072b0', '098f665fb94666144f68', '098f665fb968fdb03afd', '098f665fb9eef19ea5d2', '098f665fb976bf4fc490', '098f665fb9f52af3295c', '098f665fb954197735b9', '098f665fb9dd029a3f39', '098f665fb999b1b14bfa', '098f665fb95a7c67cbbc', '098f665fb91ac7ee2c42', '098f665fb94ee97d2dde', '098f665fb92c758ad61a', '098f665fb961992d09bf', '098f665fb9e22fffbd79', '098f665fb914ef735f4a', '098f665fb9d14d3d1fe1', '098f6f318bd6d859778d', '098f665fb926ea9fe9fc', '098f6f318b71a5d68d30', '098f665fb9f66b43ef81', '098f665fb9fadf193db8', '098f65f2e8ba867c7e12', '098f665fb95cc1f76479', '098f6eb6b01369386139', '098f665fb9b518354229', '098f665fb95b30698dce', '098f665fb97d218f4b9e', '098f66c8900e37b812b4', '098f665fb9177ba26657', '098f665fb9d4a8ae2ef5', '098f6fb92683e1fed3d2', '098f665fb94f69eac627', '098f665fb9697aaf8991', '098f665fb96cd4d38b3e', '098f665fb97ca6dec895', '098f6a9e365fa146974c', '098f665fb9b2d94c9e10', '098f665fb93fbb5f0935', '098f665fb900a96a97da', '098f665fb934b68a3c65', '098f6eb6b07d8032723d', '098f6fb92697b005f93f', '098f665fb9b9291698d5', '098f665fb9071807f6ff', '098f6fb926d882373278', '098f6433f1091785fd0b', '098f60af8f9e39f2b449', '098f65f2e851839c4514', '098f637935c2b09eb160', '098f665fb9a6aad5ef05', '098f6f318b1365807e1c', '098f665fb99a696da4fb', '098f665fb95595e4c56f', '098f665fb9362c8a0a08', '098f665fb98e412202cb', '098f665fb98b3c7c8ffe', '098f637935322563def1', '098f6179d38f23a06905', '098f665fb9278b1ec5de', '098f689f60338d3d1f49', '098f6fb9269b5119b861', '098f665fb91fd041afa3', '098f6fb92691ac865ded', '098f665fb91e0a002522', '098f665fb9ba7837f1de', '098f665fb916c2a42a0e', '098f665fb9f99fa3988c', '098f665fb9f49aa013d4', '098f665fb9c0a65e00da', '098f6d4418aa6b213859', '098f665fb9cb3bb0f28b', '098f665fb993d0c903ce', '098f665fb9b90ac0a09c', '098f665fb9121ac2b24d', '098f6433f1c26e78d5e9', '098f665fb92f1fc47d1e', '098f665fb914fca7ef60', '098f665fb90eebfa8f15'], 'keys': [0, 0, 0, 0, 0, 2, 8, 0, 0, 8, 8, 0, 2, 0, 0, 0, 0, 18, 0, 0, 0, 28, 0, 2, 0, 0, 7, 0, 0, 0, 11, 0, 6, 0, 0, 0, 15, 8, 0, 0, 0, 0, 15, 2, 0, 2, 0, 4, 0, 0, 10, 0, 2, 0, 0, 2, 0, 0, 0, 0, 0, 0, 2, 0, 0, 0, 7, 0, 6, 0, 0, 0, 2, 11, 0, 0, 0, 28, 0, 2, 8, 0, 0, 0, 0, 3, 2, 0, 0, 0, 11, 8, 0, 0, 8, 29, 0, 15, 6, 12, 6, 1, 2, 0, 0, 0, 5, 18, 0, 7, 8, 0, 8, 0, 0, 0, 0, 0, 0, 0, 2, 0, 11, 0, 29, 2, 0, 0], 'preds': [0, 0, 0, 0, 0, 0, 0, 0, 0, 0, 0, 0, 0, 0, 0, 0, 0, 0, 0, 0, 0, 0, 0, 0, 0, 0, 0, 0, 0, 0, 0, 0, 0, 0, 0, 0, 0, 0, 0, 0, 0, 0, 0, 0, 0, 0, 0, 0, 0, 0, 0, 0, 0, 0, 0, 0, 0, 0, 0, 0, 0, 0, 0, 0, 0, 0, 0, 0, 0, 0, 0, 0, 0, 0, 0, 0, 0, 0, 0, 0, 0, 0, 0, 0, 0, 0, 0, 0, 0, 0, 0, 0, 0, 0, 0, 0, 0, 0, 0, 0, 0, 0, 0, 0, 0, 0, 0, 0, 0, 0, 0, 0, 0, 0, 0, 0, 0, 0, 0, 0, 0, 0, 0, 0, 0, 0, 0, 0]}\n",
            "{'test_f1': 0.0}\n",
            "\n",
            "\u001b[34m\u001b[1mwandb\u001b[0m: Waiting for W&B process to finish, PID 547\n",
            "\u001b[34m\u001b[1mwandb\u001b[0m: Program ended successfully.\n",
            "\u001b[34m\u001b[1mwandb\u001b[0m:                                                                                \n",
            "\u001b[34m\u001b[1mwandb\u001b[0m: Find user logs for this run at: /content/wandb/run-20210920_160758-tz7776r6/logs/debug.log\n",
            "\u001b[34m\u001b[1mwandb\u001b[0m: Find internal logs for this run at: /content/wandb/run-20210920_160758-tz7776r6/logs/debug-internal.log\n",
            "\u001b[34m\u001b[1mwandb\u001b[0m: Run summary:\n",
            "\u001b[34m\u001b[1mwandb\u001b[0m:    dev_f1 0.0\n",
            "\u001b[34m\u001b[1mwandb\u001b[0m:      loss 2.71046\n",
            "\u001b[34m\u001b[1mwandb\u001b[0m:   test_f1 0.0\n",
            "\u001b[34m\u001b[1mwandb\u001b[0m: Run history:\n",
            "\u001b[34m\u001b[1mwandb\u001b[0m:    dev_f1 ▁\n",
            "\u001b[34m\u001b[1mwandb\u001b[0m:      loss ██▇▆▅▅▄▂▂▁\n",
            "\u001b[34m\u001b[1mwandb\u001b[0m:   test_f1 ▁\n",
            "\u001b[34m\u001b[1mwandb\u001b[0m: Synced 5 W&B file(s), 0 media file(s), 0 artifact file(s) and 0 other file(s)\n",
            "\u001b[34m\u001b[1mwandb\u001b[0m: \n",
            "\u001b[34m\u001b[1mwandb\u001b[0m: Synced \u001b[33mbert-base\u001b[0m: \u001b[34mhttps://wandb.ai/mukundrungta/RE_baseline/runs/tz7776r6\u001b[0m\n"
          ]
        }
      ]
    },
    {
      "cell_type": "code",
      "metadata": {
        "colab": {
          "base_uri": "https://localhost:8080/",
          "height": 35
        },
        "id": "cG9uG-yXfggt",
        "outputId": "82c68050-adce-4772-fbef-3d54db363cb2"
      },
      "source": [
        ""
      ],
      "execution_count": null,
      "outputs": [
        {
          "data": {
            "application/vnd.google.colaboratory.intrinsic+json": {
              "type": "string"
            },
            "text/plain": [
              "'1.9.0+cu102'"
            ]
          },
          "execution_count": 4,
          "metadata": {},
          "output_type": "execute_result"
        }
      ]
    },
    {
      "cell_type": "code",
      "metadata": {
        "id": "XmZJaSEh_sic"
      },
      "source": [
        ""
      ],
      "execution_count": null,
      "outputs": []
    },
    {
      "cell_type": "code",
      "metadata": {
        "colab": {
          "base_uri": "https://localhost:8080/"
        },
        "id": "qOAPdS8HfsgQ",
        "outputId": "351e7524-df68-40f7-d556-879547292a6b"
      },
      "source": [
        "!pip install wandb\n",
        "!pip install ujson\n",
        "!pip install transformers"
      ],
      "execution_count": 1,
      "outputs": [
        {
          "output_type": "stream",
          "name": "stdout",
          "text": [
            "Collecting wandb\n",
            "  Downloading wandb-0.12.2-py2.py3-none-any.whl (1.7 MB)\n",
            "\u001b[K     |████████████████████████████████| 1.7 MB 5.2 MB/s \n",
            "\u001b[?25hCollecting shortuuid>=0.5.0\n",
            "  Downloading shortuuid-1.0.1-py3-none-any.whl (7.5 kB)\n",
            "Collecting subprocess32>=3.5.3\n",
            "  Downloading subprocess32-3.5.4.tar.gz (97 kB)\n",
            "\u001b[K     |████████████████████████████████| 97 kB 6.0 MB/s \n",
            "\u001b[?25hRequirement already satisfied: python-dateutil>=2.6.1 in /usr/local/lib/python3.7/dist-packages (from wandb) (2.8.2)\n",
            "Requirement already satisfied: six>=1.13.0 in /usr/local/lib/python3.7/dist-packages (from wandb) (1.15.0)\n",
            "Requirement already satisfied: requests<3,>=2.0.0 in /usr/local/lib/python3.7/dist-packages (from wandb) (2.23.0)\n",
            "Collecting pathtools\n",
            "  Downloading pathtools-0.1.2.tar.gz (11 kB)\n",
            "Requirement already satisfied: protobuf>=3.12.0 in /usr/local/lib/python3.7/dist-packages (from wandb) (3.17.3)\n",
            "Collecting sentry-sdk>=1.0.0\n",
            "  Downloading sentry_sdk-1.3.1-py2.py3-none-any.whl (133 kB)\n",
            "\u001b[K     |████████████████████████████████| 133 kB 42.8 MB/s \n",
            "\u001b[?25hCollecting configparser>=3.8.1\n",
            "  Downloading configparser-5.0.2-py3-none-any.whl (19 kB)\n",
            "Requirement already satisfied: promise<3,>=2.0 in /usr/local/lib/python3.7/dist-packages (from wandb) (2.3)\n",
            "Collecting yaspin>=1.0.0\n",
            "  Downloading yaspin-2.1.0-py3-none-any.whl (18 kB)\n",
            "Collecting GitPython>=1.0.0\n",
            "  Downloading GitPython-3.1.24-py3-none-any.whl (180 kB)\n",
            "\u001b[K     |████████████████████████████████| 180 kB 46.8 MB/s \n",
            "\u001b[?25hRequirement already satisfied: Click!=8.0.0,>=7.0 in /usr/local/lib/python3.7/dist-packages (from wandb) (7.1.2)\n",
            "Collecting docker-pycreds>=0.4.0\n",
            "  Downloading docker_pycreds-0.4.0-py2.py3-none-any.whl (9.0 kB)\n",
            "Requirement already satisfied: psutil>=5.0.0 in /usr/local/lib/python3.7/dist-packages (from wandb) (5.4.8)\n",
            "Requirement already satisfied: PyYAML in /usr/local/lib/python3.7/dist-packages (from wandb) (3.13)\n",
            "Requirement already satisfied: typing-extensions>=3.7.4.3 in /usr/local/lib/python3.7/dist-packages (from GitPython>=1.0.0->wandb) (3.7.4.3)\n",
            "Collecting gitdb<5,>=4.0.1\n",
            "  Downloading gitdb-4.0.7-py3-none-any.whl (63 kB)\n",
            "\u001b[K     |████████████████████████████████| 63 kB 1.1 MB/s \n",
            "\u001b[?25hCollecting smmap<5,>=3.0.1\n",
            "  Downloading smmap-4.0.0-py2.py3-none-any.whl (24 kB)\n",
            "Requirement already satisfied: idna<3,>=2.5 in /usr/local/lib/python3.7/dist-packages (from requests<3,>=2.0.0->wandb) (2.10)\n",
            "Requirement already satisfied: chardet<4,>=3.0.2 in /usr/local/lib/python3.7/dist-packages (from requests<3,>=2.0.0->wandb) (3.0.4)\n",
            "Requirement already satisfied: certifi>=2017.4.17 in /usr/local/lib/python3.7/dist-packages (from requests<3,>=2.0.0->wandb) (2021.5.30)\n",
            "Requirement already satisfied: urllib3!=1.25.0,!=1.25.1,<1.26,>=1.21.1 in /usr/local/lib/python3.7/dist-packages (from requests<3,>=2.0.0->wandb) (1.24.3)\n",
            "Requirement already satisfied: termcolor<2.0.0,>=1.1.0 in /usr/local/lib/python3.7/dist-packages (from yaspin>=1.0.0->wandb) (1.1.0)\n",
            "Building wheels for collected packages: subprocess32, pathtools\n",
            "  Building wheel for subprocess32 (setup.py) ... \u001b[?25l\u001b[?25hdone\n",
            "  Created wheel for subprocess32: filename=subprocess32-3.5.4-py3-none-any.whl size=6502 sha256=7abc46da333923667b5427f027a806ec9b3c88a3c869d977159a57d180a2fe2d\n",
            "  Stored in directory: /root/.cache/pip/wheels/50/ca/fa/8fca8d246e64f19488d07567547ddec8eb084e8c0d7a59226a\n",
            "  Building wheel for pathtools (setup.py) ... \u001b[?25l\u001b[?25hdone\n",
            "  Created wheel for pathtools: filename=pathtools-0.1.2-py3-none-any.whl size=8807 sha256=f429082c296254eb7a2730b1ed76cbc7702952ea514b7db057285ea4d8649a9c\n",
            "  Stored in directory: /root/.cache/pip/wheels/3e/31/09/fa59cef12cdcfecc627b3d24273699f390e71828921b2cbba2\n",
            "Successfully built subprocess32 pathtools\n",
            "Installing collected packages: smmap, gitdb, yaspin, subprocess32, shortuuid, sentry-sdk, pathtools, GitPython, docker-pycreds, configparser, wandb\n",
            "Successfully installed GitPython-3.1.24 configparser-5.0.2 docker-pycreds-0.4.0 gitdb-4.0.7 pathtools-0.1.2 sentry-sdk-1.3.1 shortuuid-1.0.1 smmap-4.0.0 subprocess32-3.5.4 wandb-0.12.2 yaspin-2.1.0\n",
            "Collecting ujson\n",
            "  Downloading ujson-4.1.0-cp37-cp37m-manylinux_2_5_x86_64.manylinux1_x86_64.whl (178 kB)\n",
            "\u001b[K     |████████████████████████████████| 178 kB 5.2 MB/s \n",
            "\u001b[?25hInstalling collected packages: ujson\n",
            "Successfully installed ujson-4.1.0\n",
            "Collecting transformers\n",
            "  Downloading transformers-4.10.2-py3-none-any.whl (2.8 MB)\n",
            "\u001b[K     |████████████████████████████████| 2.8 MB 5.3 MB/s \n",
            "\u001b[?25hRequirement already satisfied: importlib-metadata in /usr/local/lib/python3.7/dist-packages (from transformers) (4.8.1)\n",
            "Requirement already satisfied: requests in /usr/local/lib/python3.7/dist-packages (from transformers) (2.23.0)\n",
            "Collecting huggingface-hub>=0.0.12\n",
            "  Downloading huggingface_hub-0.0.17-py3-none-any.whl (52 kB)\n",
            "\u001b[K     |████████████████████████████████| 52 kB 1.5 MB/s \n",
            "\u001b[?25hCollecting tokenizers<0.11,>=0.10.1\n",
            "  Downloading tokenizers-0.10.3-cp37-cp37m-manylinux_2_5_x86_64.manylinux1_x86_64.manylinux_2_12_x86_64.manylinux2010_x86_64.whl (3.3 MB)\n",
            "\u001b[K     |████████████████████████████████| 3.3 MB 39.8 MB/s \n",
            "\u001b[?25hCollecting sacremoses\n",
            "  Downloading sacremoses-0.0.45-py3-none-any.whl (895 kB)\n",
            "\u001b[K     |████████████████████████████████| 895 kB 40.7 MB/s \n",
            "\u001b[?25hRequirement already satisfied: filelock in /usr/local/lib/python3.7/dist-packages (from transformers) (3.0.12)\n",
            "Requirement already satisfied: tqdm>=4.27 in /usr/local/lib/python3.7/dist-packages (from transformers) (4.62.2)\n",
            "Collecting pyyaml>=5.1\n",
            "  Downloading PyYAML-5.4.1-cp37-cp37m-manylinux1_x86_64.whl (636 kB)\n",
            "\u001b[K     |████████████████████████████████| 636 kB 44.2 MB/s \n",
            "\u001b[?25hRequirement already satisfied: regex!=2019.12.17 in /usr/local/lib/python3.7/dist-packages (from transformers) (2019.12.20)\n",
            "Requirement already satisfied: numpy>=1.17 in /usr/local/lib/python3.7/dist-packages (from transformers) (1.19.5)\n",
            "Requirement already satisfied: packaging in /usr/local/lib/python3.7/dist-packages (from transformers) (21.0)\n",
            "Requirement already satisfied: typing-extensions in /usr/local/lib/python3.7/dist-packages (from huggingface-hub>=0.0.12->transformers) (3.7.4.3)\n",
            "Requirement already satisfied: pyparsing>=2.0.2 in /usr/local/lib/python3.7/dist-packages (from packaging->transformers) (2.4.7)\n",
            "Requirement already satisfied: zipp>=0.5 in /usr/local/lib/python3.7/dist-packages (from importlib-metadata->transformers) (3.5.0)\n",
            "Requirement already satisfied: idna<3,>=2.5 in /usr/local/lib/python3.7/dist-packages (from requests->transformers) (2.10)\n",
            "Requirement already satisfied: certifi>=2017.4.17 in /usr/local/lib/python3.7/dist-packages (from requests->transformers) (2021.5.30)\n",
            "Requirement already satisfied: urllib3!=1.25.0,!=1.25.1,<1.26,>=1.21.1 in /usr/local/lib/python3.7/dist-packages (from requests->transformers) (1.24.3)\n",
            "Requirement already satisfied: chardet<4,>=3.0.2 in /usr/local/lib/python3.7/dist-packages (from requests->transformers) (3.0.4)\n",
            "Requirement already satisfied: joblib in /usr/local/lib/python3.7/dist-packages (from sacremoses->transformers) (1.0.1)\n",
            "Requirement already satisfied: click in /usr/local/lib/python3.7/dist-packages (from sacremoses->transformers) (7.1.2)\n",
            "Requirement already satisfied: six in /usr/local/lib/python3.7/dist-packages (from sacremoses->transformers) (1.15.0)\n",
            "Installing collected packages: tokenizers, sacremoses, pyyaml, huggingface-hub, transformers\n",
            "  Attempting uninstall: pyyaml\n",
            "    Found existing installation: PyYAML 3.13\n",
            "    Uninstalling PyYAML-3.13:\n",
            "      Successfully uninstalled PyYAML-3.13\n",
            "Successfully installed huggingface-hub-0.0.17 pyyaml-5.4.1 sacremoses-0.0.45 tokenizers-0.10.3 transformers-4.10.2\n"
          ]
        }
      ]
    },
    {
      "cell_type": "code",
      "metadata": {
        "id": "0zn2WnoT26gb"
      },
      "source": [
        "import argparse\n",
        "import os\n",
        "import json\n",
        "import numpy as np\n",
        "import torch\n",
        "from tqdm import tqdm\n",
        "from torch.utils.data import DataLoader\n",
        "from transformers import AutoConfig, AutoTokenizer\n",
        "from transformers.optimization import AdamW, get_linear_schedule_with_warmup\n",
        "from drive.MyDrive.ColabNotebooks.RE_improved_baseline.utils import set_seed, collate_fn\n",
        "from drive.MyDrive.ColabNotebooks.RE_improved_baseline.prepro import RETACREDProcessor\n",
        "from drive.MyDrive.ColabNotebooks.RE_improved_baseline.evaluation import get_f1\n",
        "from drive.MyDrive.ColabNotebooks.RE_improved_baseline.model import REModel\n",
        "from torch.cuda.amp import GradScaler\n",
        "import wandb"
      ],
      "execution_count": null,
      "outputs": []
    },
    {
      "cell_type": "code",
      "metadata": {
        "id": "MOR8pZ30P2iF"
      },
      "source": [
        "def train(args, model, train_features, benchmarks):\n",
        "    train_dataloader = DataLoader(train_features, batch_size=args.train_batch_size, shuffle=True, collate_fn=collate_fn, drop_last=True)\n",
        "    total_steps = int(len(train_dataloader) * args.num_train_epochs // args.gradient_accumulation_steps)\n",
        "    warmup_steps = int(total_steps * args.warmup_ratio)\n",
        "\n",
        "    scaler = GradScaler()\n",
        "    optimizer = AdamW(model.parameters(), lr=args.learning_rate, eps=args.adam_epsilon)\n",
        "    scheduler = get_linear_schedule_with_warmup(optimizer, num_warmup_steps=warmup_steps, num_training_steps=total_steps)\n",
        "    print('Total steps: {}'.format(total_steps))\n",
        "    print('Warmup steps: {}'.format(warmup_steps))\n",
        "\n",
        "    num_steps = 0\n",
        "    for epoch in range(int(args.num_train_epochs)):\n",
        "        model.zero_grad()\n",
        "        for step, batch in enumerate(tqdm(train_dataloader)):\n",
        "            model.train()\n",
        "            inputs = {'input_ids': batch[0].to(args.device),\n",
        "                      'attention_mask': batch[1].to(args.device),\n",
        "                      'labels': batch[2].to(args.device),\n",
        "                      'ss': batch[3].to(args.device),\n",
        "                      'os': batch[4].to(args.device),\n",
        "                      }\n",
        "            outputs = model(**inputs)\n",
        "            loss = outputs[0] / args.gradient_accumulation_steps\n",
        "            scaler.scale(loss).backward()\n",
        "            if step % args.gradient_accumulation_steps == 0:\n",
        "                num_steps += 1\n",
        "                if args.max_grad_norm > 0:\n",
        "                    scaler.unscale_(optimizer)\n",
        "                    torch.nn.utils.clip_grad_norm_(model.parameters(), args.max_grad_norm)\n",
        "                scaler.step(optimizer)\n",
        "                scaler.update()\n",
        "                scheduler.step()\n",
        "                model.zero_grad()\n",
        "                wandb.log({'loss': loss.item()}, step=num_steps)\n",
        "\n",
        "            if (num_steps % args.evaluation_steps == 0 and step % args.gradient_accumulation_steps == 0):\n",
        "                for tag, features in benchmarks:\n",
        "                    f1, output = evaluate(args, model, features, tag=tag, steps=step)\n",
        "                    wandb.log(output, step=num_steps)\n",
        "\n",
        "    for tag, features in benchmarks:\n",
        "        f1, output = evaluate(args, model, features, tag=tag)\n",
        "        wandb.log(output, step=num_steps)\n",
        "\n",
        "\n",
        "def evaluate(args, model, features, tag='dev',steps=0):\n",
        "    dataloader = DataLoader(features, batch_size=args.test_batch_size, collate_fn=collate_fn, drop_last=False)\n",
        "    keys, preds = [], []\n",
        "    pred_list = []\n",
        "    for i_b, batch in enumerate(dataloader):\n",
        "        model.eval()\n",
        "\n",
        "        inputs = {'input_ids': batch[0].to(args.device),\n",
        "                  'attention_mask': batch[1].to(args.device),\n",
        "                  'ss': batch[3].to(args.device),\n",
        "                  'os': batch[4].to(args.device),\n",
        "                  }\n",
        "        keys += batch[2].tolist()\n",
        "        with torch.no_grad():\n",
        "            logit = model(**inputs)[0]\n",
        "            pred = torch.argmax(logit, dim=-1)\n",
        "        preds += pred.tolist()\n",
        "        pred_list.append({'input_ids':imput['input_ids'],'keys':keys,'preds':preds})\n",
        "    keys = np.array(keys, dtype=np.int64)\n",
        "    preds = np.array(preds, dtype=np.int64)\n",
        "    _, _, max_f1 = get_f1(keys, preds)\n",
        "    data  = json.dumps(pred_list)\n",
        "    with open('drive/MyDrive/ColabNotebooks/dataset/retacred/predBert'+tag+'_'+steps+'pred.json', 'w') as f:\n",
        "        json.dump(data, f)\n",
        "    output = {\n",
        "        tag + \"_f1\": max_f1 * 100,\n",
        "    }\n",
        "    print(output)\n",
        "    return max_f1, output"
      ],
      "execution_count": null,
      "outputs": []
    },
    {
      "cell_type": "code",
      "metadata": {
        "colab": {
          "base_uri": "https://localhost:8080/",
          "height": 507
        },
        "id": "repRbW9qPEhX",
        "outputId": "ecf07402-0aad-48fb-d989-0475935e432e"
      },
      "source": [
        "\n",
        "def main():\n",
        "    parser = argparse.ArgumentParser()\n",
        "\n",
        "    parser.add_argument(\"--data_dir\", default=\"./data/retacred\", type=str)\n",
        "    parser.add_argument(\"--model_name_or_path\", default=\"roberta-large\", type=str)\n",
        "    parser.add_argument(\"--input_format\", default=\"typed_entity_marker_punct\", type=str,\n",
        "                        help=\"in [entity_mask, entity_marker, entity_marker_punct, typed_entity_marker, typed_entity_marker_punct]\")\n",
        "\n",
        "    parser.add_argument(\"--config_name\", default=\"\", type=str,\n",
        "                        help=\"Pretrained config name or path if not the same as model_name\")\n",
        "    parser.add_argument(\"--tokenizer_name\", default=\"\", type=str,\n",
        "                        help=\"Pretrained tokenizer name or path if not the same as model_name\")\n",
        "    parser.add_argument(\"--max_seq_length\", default=512, type=int,\n",
        "                        help=\"The maximum total input sequence length after tokenization. Sequences longer \"\n",
        "                             \"than this will be truncated.\")\n",
        "    \n",
        "    parser.add_argument(\"--train_batch_size\", default=32, type=int,\n",
        "                        help=\"Batch size for training.\")\n",
        "    parser.add_argument(\"--test_batch_size\", default=32, type=int,\n",
        "                        help=\"Batch size for testing.\")\n",
        "    parser.add_argument(\"--learning_rate\", default=3e-5, type=float,\n",
        "                        help=\"The initial learning rate for Adam.\")\n",
        "    parser.add_argument(\"--gradient_accumulation_steps\", default=2, type=int,\n",
        "                        help=\"Number of updates steps to accumulate the gradients for, before performing a backward/update pass.\")\n",
        "    parser.add_argument(\"--adam_epsilon\", default=1e-6, type=float,\n",
        "                        help=\"Epsilon for Adam optimizer.\")\n",
        "    parser.add_argument(\"--max_grad_norm\", default=1.0, type=float,\n",
        "                        help=\"Max gradient norm.\")\n",
        "    parser.add_argument(\"--warmup_ratio\", default=0.1, type=float,\n",
        "                        help=\"Warm up ratio for Adam.\")\n",
        "    parser.add_argument(\"--num_train_epochs\", default=5.0, type=float,\n",
        "                        help=\"Total number of training epochs to perform.\")\n",
        "    parser.add_argument(\"--seed\", type=int, default=42,\n",
        "                        help=\"random seed for initialization\")\n",
        "    parser.add_argument(\"--num_class\", type=int, default=40)\n",
        "    parser.add_argument(\"--evaluation_steps\", type=int, default=500,\n",
        "                        help=\"Number of steps to evaluate the model\")\n",
        "\n",
        "    parser.add_argument(\"--dropout_prob\", type=float, default=0.1)\n",
        "    parser.add_argument(\"--project_name\", type=str, default=\"RE_baseline\")\n",
        "    parser.add_argument(\"--run_name\", type=str, default=\"re-tacred\")\n",
        "\n",
        "    args = parser.parse_args()\n",
        "    wandb.init(project=args.project_name, name=args.run_name)\n",
        "\n",
        "    device = torch.device(\"cuda:0\" if torch.cuda.is_available() else \"cpu\")\n",
        "    args.n_gpu = torch.cuda.device_count()\n",
        "    args.device = device\n",
        "    if args.seed > 0:\n",
        "        set_seed(args)\n",
        "\n",
        "    config = AutoConfig.from_pretrained(\n",
        "        args.config_name if args.config_name else args.model_name_or_path,\n",
        "        num_labels=args.num_class,\n",
        "    )\n",
        "    config.gradient_checkpointing = True\n",
        "    tokenizer = AutoTokenizer.from_pretrained(\n",
        "        args.tokenizer_name if args.tokenizer_name else args.model_name_or_path,\n",
        "    )\n",
        "\n",
        "    model = REModel(args, config)\n",
        "    model.to(0)\n",
        "\n",
        "    train_file = os.path.join(args.data_dir, \"train.json\")\n",
        "    dev_file = os.path.join(args.data_dir, \"dev.json\")\n",
        "    test_file = os.path.join(args.data_dir, \"test.json\")\n",
        "\n",
        "    processor = RETACREDProcessor(args, tokenizer)\n",
        "    train_features = processor.read(train_file)\n",
        "    dev_features = processor.read(dev_file)\n",
        "    test_features = processor.read(test_file)\n",
        "\n",
        "    if len(processor.new_tokens) > 0:\n",
        "        model.encoder.resize_token_embeddings(len(tokenizer))\n",
        "\n",
        "    benchmarks = (\n",
        "        (\"dev\", dev_features),\n",
        "        (\"test\", test_features),\n",
        "    )\n",
        "\n",
        "    # train(args, model, train_features, benchmarks)\n",
        "\n",
        "\n",
        "if __name__ == \"__main__\":\n",
        "    main()"
      ],
      "execution_count": null,
      "outputs": [
        {
          "output_type": "stream",
          "name": "stderr",
          "text": [
            "usage: ipykernel_launcher.py [-h] [--data_dir DATA_DIR]\n",
            "                             [--model_name_or_path MODEL_NAME_OR_PATH]\n",
            "                             [--input_format INPUT_FORMAT]\n",
            "                             [--config_name CONFIG_NAME]\n",
            "                             [--tokenizer_name TOKENIZER_NAME]\n",
            "                             [--max_seq_length MAX_SEQ_LENGTH]\n",
            "                             [--train_batch_size TRAIN_BATCH_SIZE]\n",
            "                             [--test_batch_size TEST_BATCH_SIZE]\n",
            "                             [--learning_rate LEARNING_RATE]\n",
            "                             [--gradient_accumulation_steps GRADIENT_ACCUMULATION_STEPS]\n",
            "                             [--adam_epsilon ADAM_EPSILON]\n",
            "                             [--max_grad_norm MAX_GRAD_NORM]\n",
            "                             [--warmup_ratio WARMUP_RATIO]\n",
            "                             [--num_train_epochs NUM_TRAIN_EPOCHS]\n",
            "                             [--seed SEED] [--num_class NUM_CLASS]\n",
            "                             [--evaluation_steps EVALUATION_STEPS]\n",
            "                             [--dropout_prob DROPOUT_PROB]\n",
            "                             [--project_name PROJECT_NAME]\n",
            "                             [--run_name RUN_NAME]\n",
            "ipykernel_launcher.py: error: unrecognized arguments: -f /root/.local/share/jupyter/runtime/kernel-0783b210-68d4-4754-9e83-3d3515574e1a.json\n"
          ]
        },
        {
          "output_type": "error",
          "ename": "SystemExit",
          "evalue": "ignored",
          "traceback": [
            "An exception has occurred, use %tb to see the full traceback.\n",
            "\u001b[0;31mSystemExit\u001b[0m\u001b[0;31m:\u001b[0m 2\n"
          ]
        },
        {
          "output_type": "stream",
          "name": "stderr",
          "text": [
            "/usr/local/lib/python3.7/dist-packages/IPython/core/interactiveshell.py:2890: UserWarning: To exit: use 'exit', 'quit', or Ctrl-D.\n",
            "  warn(\"To exit: use 'exit', 'quit', or Ctrl-D.\", stacklevel=1)\n"
          ]
        }
      ]
    },
    {
      "cell_type": "code",
      "metadata": {
        "colab": {
          "base_uri": "https://localhost:8080/"
        },
        "id": "Gm8Lu-UVRn57",
        "outputId": "dc46b432-63c1-4253-870b-a9d5eaf8e734"
      },
      "source": [
        "!python train_retacred.py --model_name_or_path bert-base-cased --input_format typed_entity_marker --seed 78 --train_batch_size 64 --test_batch_size 64 --learning_rate 5e-5 --gradient_accumulation_steps 1 --run_name bert-base;"
      ],
      "execution_count": null,
      "outputs": [
        {
          "output_type": "stream",
          "name": "stdout",
          "text": [
            "python3: can't open file 'main': [Errno 2] No such file or directory\n"
          ]
        }
      ]
    },
    {
      "cell_type": "code",
      "metadata": {
        "id": "xXahfHzr1Oxp"
      },
      "source": [
        "torch._C._cuda_init()"
      ],
      "execution_count": null,
      "outputs": []
    }
  ]
}